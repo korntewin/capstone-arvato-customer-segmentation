{
 "cells": [
  {
   "cell_type": "markdown",
   "metadata": {},
   "source": [
    "# Capstone Project: Create a Customer Segmentation Report for Arvato Financial Services\n",
    "\n",
    "In this project, you will analyze demographics data for customers of a mail-order sales company in Germany, comparing it against demographics information for the general population. You'll use unsupervised learning techniques to perform customer segmentation, identifying the parts of the population that best describe the core customer base of the company. Then, you'll apply what you've learned on a third dataset with demographics information for targets of a marketing campaign for the company, and use a model to predict which individuals are most likely to convert into becoming customers for the company. The data that you will use has been provided by our partners at Bertelsmann Arvato Analytics, and represents a real-life data science task.\n",
    "\n",
    "If you completed the first term of this program, you will be familiar with the first part of this project, from the unsupervised learning project. The versions of those two datasets used in this project will include many more features and has not been pre-cleaned. You are also free to choose whatever approach you'd like to analyzing the data rather than follow pre-determined steps. In your work on this project, make sure that you carefully document your steps and decisions, since your main deliverable for this project will be a blog post reporting your findings."
   ]
  },
  {
   "cell_type": "code",
   "execution_count": 110,
   "metadata": {},
   "outputs": [],
   "source": [
    "# import libraries here; add more as necessary\n",
    "import json\n",
    "import typing as t\n",
    "from pathlib import Path\n",
    "\n",
    "import numpy as np\n",
    "import pandas as pd\n",
    "import matplotlib.pyplot as plt\n",
    "import seaborn as sns\n",
    "\n",
    "# magic word for producing visualizations in notebook\n",
    "%matplotlib inline"
   ]
  },
  {
   "cell_type": "markdown",
   "metadata": {},
   "source": [
    "## Part 0: Get to Know the Data\n",
    "\n",
    "There are four data files associated with this project:\n",
    "\n",
    "- `Udacity_AZDIAS_052018.csv`: Demographics data for the general population of Germany; 891 211 persons (rows) x 366 features (columns).\n",
    "- `Udacity_CUSTOMERS_052018.csv`: Demographics data for customers of a mail-order company; 191 652 persons (rows) x 369 features (columns).\n",
    "- `Udacity_MAILOUT_052018_TRAIN.csv`: Demographics data for individuals who were targets of a marketing campaign; 42 982 persons (rows) x 367 (columns).\n",
    "- `Udacity_MAILOUT_052018_TEST.csv`: Demographics data for individuals who were targets of a marketing campaign; 42 833 persons (rows) x 366 (columns).\n",
    "\n",
    "Each row of the demographics files represents a single person, but also includes information outside of individuals, including information about their household, building, and neighborhood. Use the information from the first two files to figure out how customers (\"CUSTOMERS\") are similar to or differ from the general population at large (\"AZDIAS\"), then use your analysis to make predictions on the other two files (\"MAILOUT\"), predicting which recipients are most likely to become a customer for the mail-order company.\n",
    "\n",
    "The \"CUSTOMERS\" file contains three extra columns ('CUSTOMER_GROUP', 'ONLINE_PURCHASE', and 'PRODUCT_GROUP'), which provide broad information about the customers depicted in the file. The original \"MAILOUT\" file included one additional column, \"RESPONSE\", which indicated whether or not each recipient became a customer of the company. For the \"TRAIN\" subset, this column has been retained, but in the \"TEST\" subset it has been removed; it is against that withheld column that your final predictions will be assessed in the Kaggle competition.\n",
    "\n",
    "Otherwise, all of the remaining columns are the same between the three data files. For more information about the columns depicted in the files, you can refer to two Excel spreadsheets provided in the workspace. [One of them](./DIAS Information Levels - Attributes 2017.xlsx) is a top-level list of attributes and descriptions, organized by informational category. [The other](./DIAS Attributes - Values 2017.xlsx) is a detailed mapping of data values for each feature in alphabetical order.\n",
    "\n",
    "In the below cell, we've provided some initial code to load in the first two datasets. Note for all of the `.csv` data files in this project that they're semicolon (`;`) delimited, so an additional argument in the [`read_csv()`](https://pandas.pydata.org/pandas-docs/stable/generated/pandas.read_csv.html) call has been included to read in the data properly. Also, considering the size of the datasets, it may take some time for them to load completely.\n",
    "\n",
    "You'll notice when the data is loaded in that a warning message will immediately pop up. Before you really start digging into the modeling and analysis, you're going to need to perform some cleaning. Take some time to browse the structure of the data and look over the informational spreadsheets to understand the data values. Make some decisions on which features to keep, which features to drop, and if any revisions need to be made on data formats. It'll be a good idea to create a function with pre-processing steps, since you'll need to clean all of the datasets before you work with them."
   ]
  },
  {
   "cell_type": "code",
   "execution_count": 2,
   "metadata": {},
   "outputs": [
    {
     "output_type": "stream",
     "name": "stderr",
     "text": [
      "/Users/boonchuay/Library/Python/3.7/lib/python/site-packages/IPython/core/interactiveshell.py:3146: DtypeWarning: Columns (18,19) have mixed types. Specify dtype option on import or set low_memory=False.\n  interactivity=interactivity, compiler=compiler, result=result)\n"
     ]
    }
   ],
   "source": [
    "# load in the data\n",
    "azdias = pd.read_csv('./data/Udacity_AZDIAS_052018.csv', sep=';')\n",
    "customers = pd.read_csv('./data/Udacity_CUSTOMERS_052018.csv', sep=';')"
   ]
  },
  {
   "cell_type": "code",
   "execution_count": 30,
   "metadata": {},
   "outputs": [
    {
     "output_type": "stream",
     "name": "stdout",
     "text": [
      "load -->  age-data\nload -->  interval-data\nload -->  nominal-data\nload -->  ordinal-data\n"
     ]
    }
   ],
   "source": [
    "# specify path and filename for metadata\n",
    "MET_DIR = Path('./metadata')\n",
    "MET_FILENAMES = ['age-data.json', 'interval-data.json', 'nominal-data.json', 'ordinal-data.json']\n",
    "\n",
    "# load json file to metadata dict\n",
    "metadata = {}\n",
    "\n",
    "for file_ in MET_FILENAMES:\n",
    "    with open(MET_DIR / file_, 'r') as fp:\n",
    "        print('load --> ', file_.replace('.json', ''))\n",
    "        metadata[file_.replace('.json', '')] = json.load(fp)"
   ]
  },
  {
   "source": [
    "## Check consistency in metadata file feature description and existing feature in raw data"
   ],
   "cell_type": "markdown",
   "metadata": {}
  },
  {
   "cell_type": "code",
   "execution_count": 31,
   "metadata": {},
   "outputs": [],
   "source": [
    "def check_containment(metadata, df):\n",
    "    '''check that all column in metadata is existed\n",
    "    '''\n",
    "    not_contains = []\n",
    "\n",
    "    for data_type, metas in metadata.items():\n",
    "        print(f'===={data_type}====')\n",
    "\n",
    "        for meta in metas:\n",
    "            feature = meta['feature']\n",
    "\n",
    "            if feature not in df.columns:\n",
    "                print(feature)\n",
    "                not_contains.append(feature)\n",
    "\n",
    "    return not_contains\n",
    "\n",
    "def check_containment_reverse(metada, df):\n",
    "    '''Check that all column in df are exist in metada\n",
    "    '''\n",
    "\n",
    "    meta_features = []\n",
    "\n",
    "    for data_type, metas in metadata.items():\n",
    "\n",
    "        for meta in metas:\n",
    "            feature = meta['feature']\n",
    "            meta_features.append(feature)\n",
    "\n",
    "    print(len(meta_features))\n",
    "    not_contains = []\n",
    "    for feature in df.columns:\n",
    "        if feature not in meta_features:\n",
    "            print(feature)\n",
    "            not_contains.append(feature)\n",
    "\n",
    "    return not_contains\n"
   ]
  },
  {
   "cell_type": "code",
   "execution_count": 32,
   "metadata": {},
   "outputs": [
    {
     "output_type": "stream",
     "name": "stdout",
     "text": [
      "====age-data====\n====interval-data====\n====nominal-data====\nSOHO_FLAG\nHAUSHALTSSTRUKTUR\nBIP_FLAG\nCAMEO_DEUINTL_2015\n====ordinal-data====\nWACHSTUMSGEBIET_NB\nGEOSCORE_KLS7\n"
     ]
    }
   ],
   "source": [
    "data_not_contains = check_containment(metadata, azdias)"
   ]
  },
  {
   "cell_type": "code",
   "execution_count": 33,
   "metadata": {},
   "outputs": [
    {
     "output_type": "stream",
     "name": "stdout",
     "text": [
      "205\nLNR\nAKT_DAT_KL\nALTER_KIND1\nALTER_KIND2\nALTER_KIND3\nALTER_KIND4\nALTERSKATEGORIE_FEIN\nANZ_KINDER\nANZ_STATISTISCHE_HAUSHALTE\nARBEIT\nCAMEO_INTL_2015\nCJT_KATALOGNUTZER\nCJT_TYP_1\nCJT_TYP_2\nCJT_TYP_3\nCJT_TYP_4\nCJT_TYP_5\nCJT_TYP_6\nD19_BUCH_CD\nD19_KONSUMTYP_MAX\nD19_LETZTER_KAUF_BRANCHE\nD19_SOZIALES\nD19_TELKO_ONLINE_QUOTE_12\nD19_VERSI_DATUM\nD19_VERSI_OFFLINE_DATUM\nD19_VERSI_ONLINE_DATUM\nD19_VERSI_ONLINE_QUOTE_12\nDSL_FLAG\nEINGEFUEGT_AM\nEINGEZOGENAM_HH_JAHR\nEXTSEL992\nFIRMENDICHTE\nGEMEINDETYP\nHH_DELTA_FLAG\nKBA13_ALTERHALTER_30\nKBA13_ALTERHALTER_45\nKBA13_ALTERHALTER_60\nKBA13_ALTERHALTER_61\nKBA13_ANTG1\nKBA13_ANTG2\nKBA13_ANTG3\nKBA13_ANTG4\nKBA13_AUDI\nKBA13_AUTOQUOTE\nKBA13_BAUMAX\nKBA13_BJ_1999\nKBA13_BJ_2000\nKBA13_BJ_2004\nKBA13_BJ_2006\nKBA13_BJ_2008\nKBA13_BJ_2009\nKBA13_BMW\nKBA13_CCM_0_1400\nKBA13_CCM_1000\nKBA13_CCM_1200\nKBA13_CCM_1400\nKBA13_CCM_1401_2500\nKBA13_CCM_1500\nKBA13_CCM_1600\nKBA13_CCM_1800\nKBA13_CCM_2000\nKBA13_CCM_2500\nKBA13_CCM_2501\nKBA13_CCM_3000\nKBA13_CCM_3001\nKBA13_FAB_ASIEN\nKBA13_FAB_SONSTIGE\nKBA13_FIAT\nKBA13_FORD\nKBA13_GBZ\nKBA13_HALTER_20\nKBA13_HALTER_25\nKBA13_HALTER_30\nKBA13_HALTER_35\nKBA13_HALTER_40\nKBA13_HALTER_45\nKBA13_HALTER_50\nKBA13_HALTER_55\nKBA13_HALTER_60\nKBA13_HALTER_65\nKBA13_HALTER_66\nKBA13_HERST_ASIEN\nKBA13_HERST_AUDI_VW\nKBA13_HERST_BMW_BENZ\nKBA13_HERST_EUROPA\nKBA13_HERST_FORD_OPEL\nKBA13_HERST_SONST\nKBA13_HHZ\nKBA13_KMH_0_140\nKBA13_KMH_110\nKBA13_KMH_140\nKBA13_KMH_140_210\nKBA13_KMH_180\nKBA13_KMH_210\nKBA13_KMH_211\nKBA13_KMH_250\nKBA13_KMH_251\nKBA13_KRSAQUOT\nKBA13_KRSHERST_AUDI_VW\nKBA13_KRSHERST_BMW_BENZ\nKBA13_KRSHERST_FORD_OPEL\nKBA13_KRSSEG_KLEIN\nKBA13_KRSSEG_OBER\nKBA13_KRSSEG_VAN\nKBA13_KRSZUL_NEU\nKBA13_KW_0_60\nKBA13_KW_110\nKBA13_KW_120\nKBA13_KW_121\nKBA13_KW_30\nKBA13_KW_40\nKBA13_KW_50\nKBA13_KW_60\nKBA13_KW_61_120\nKBA13_KW_70\nKBA13_KW_80\nKBA13_KW_90\nKBA13_MAZDA\nKBA13_MERCEDES\nKBA13_MOTOR\nKBA13_NISSAN\nKBA13_OPEL\nKBA13_PEUGEOT\nKBA13_RENAULT\nKBA13_SEG_GELAENDEWAGEN\nKBA13_SEG_GROSSRAUMVANS\nKBA13_SEG_KLEINST\nKBA13_SEG_KLEINWAGEN\nKBA13_SEG_KOMPAKTKLASSE\nKBA13_SEG_MINIVANS\nKBA13_SEG_MINIWAGEN\nKBA13_SEG_MITTELKLASSE\nKBA13_SEG_OBEREMITTELKLASSE\nKBA13_SEG_OBERKLASSE\nKBA13_SEG_SONSTIGE\nKBA13_SEG_SPORTWAGEN\nKBA13_SEG_UTILITIES\nKBA13_SEG_VAN\nKBA13_SEG_WOHNMOBILE\nKBA13_SITZE_4\nKBA13_SITZE_5\nKBA13_SITZE_6\nKBA13_TOYOTA\nKBA13_VORB_0\nKBA13_VORB_1\nKBA13_VORB_1_2\nKBA13_VORB_2\nKBA13_VORB_3\nKBA13_VW\nKK_KUNDENTYP\nKOMBIALTER\nKONSUMZELLE\nMOBI_RASTER\nRT_KEIN_ANREIZ\nRT_SCHNAEPPCHEN\nRT_UEBERGROESSE\nSOHO_KZ\nSTRUKTURTYP\nUMFELD_ALT\nUMFELD_JUNG\nUNGLEICHENN_FLAG\nVERDICHTUNGSRAUM\nVHA\nVHN\nVK_DHT4A\nVK_DISTANZ\nVK_ZG11\n"
     ]
    }
   ],
   "source": [
    "meta_not_contains = check_containment_reverse(metadata, azdias)"
   ]
  },
  {
   "source": [
    "From the above information, we can see that there are many features in metadata file (which extract from DIAS Attributes file) that are not exist in azdias's columns.  \n",
    "\n",
    "Many features in azdias's columns are, also, not exist in metadata file. Without a description I can not know the meaning of the features, so I consider drop all the features that are not exist in metadata file."
   ],
   "cell_type": "markdown",
   "metadata": {}
  },
  {
   "cell_type": "code",
   "execution_count": 69,
   "metadata": {},
   "outputs": [],
   "source": [
    "def get_all_exist_feature(metadata, data_not_contains):\n",
    "    '''Get all feature names from metadata file\n",
    "    '''\n",
    "    \n",
    "    all_feature = []\n",
    "\n",
    "    for features in [*map(lambda key: metadata[key], metadata)]:\n",
    "        for feature in features:\n",
    "            feature_name = feature['feature']\n",
    "            all_feature.append(feature_name)\n",
    "\n",
    "    all_feature_contains = list(set(all_feature) - set(data_not_contains))\n",
    "    return all_feature_contains"
   ]
  },
  {
   "cell_type": "code",
   "execution_count": 60,
   "metadata": {},
   "outputs": [],
   "source": [
    "all_feature_contains = get_all_exist_feature(metadata, data_not_contains)"
   ]
  },
  {
   "cell_type": "code",
   "execution_count": 63,
   "metadata": {},
   "outputs": [
    {
     "output_type": "stream",
     "name": "stdout",
     "text": [
      "['KBA05_KW3', 'KBA05_ZUL1', 'KBA05_HERST4', 'D19_HANDWERK', 'D19_GESAMT_OFFLINE_DATUM', 'SEMIO_PFLICHT', 'D19_GARTEN', 'D19_BANKEN_ONLINE_DATUM', 'KBA05_SEG7', 'ONLINE_AFFINITAET', 'D19_KOSMETIK', 'KBA05_ANTG2', 'CAMEO_DEUG_2015', 'KBA05_KRSKLEIN', 'KBA05_KRSHERST2', 'PLZ8_GBZ', 'KBA05_ALTER3', 'D19_VERSI_ANZ_12', 'KBA05_KRSHERST1', 'FINANZ_UNAUFFAELLIGER', 'LP_STATUS_FEIN', 'D19_WEIN_FEINKOST', 'D19_TELKO_ANZ_12', 'KBA05_VORB1', 'KBA05_MAXBJ', 'KBA05_MOD8', 'D19_TELKO_MOBILE', 'D19_BANKEN_DIREKT', 'KBA05_SEG5', 'D19_SCHUHE', 'HEALTH_TYP', 'KBA05_KRSZUL', 'D19_GESAMT_ANZ_24', 'KBA05_ANTG3', 'NATIONALITAET_KZ', 'CJT_GESAMTTYP', 'ANZ_HAUSHALTE_AKTIV', 'KBA05_CCM3', 'SEMIO_KRIT', 'KBA05_BAUMAX', 'D19_BANKEN_REST', 'KKK', 'KBA05_ANTG4', 'PLZ8_ANTG1', 'VERS_TYP', 'D19_GESAMT_ONLINE_QUOTE_12', 'INNENSTADT', 'KBA05_SEG1', 'KONSUMNAEHE', 'LP_FAMILIE_FEIN', 'CAMEO_DEU_2015', 'D19_BANKEN_LOKAL', 'PLZ8_HHZ', 'FINANZ_HAUSBAUER', 'KBA05_MOD3', 'KBA05_MAXHERST', 'OST_WEST_KZ', 'D19_TELKO_ANZ_24', 'SEMIO_VERT', 'SEMIO_FAM', 'KBA05_HERST1', 'FINANZ_SPARER', 'MOBI_REGIO', 'SEMIO_DOM', 'KBA05_KRSOBER', 'ORTSGR_KLS9', 'KBA05_KW2', 'D19_RATGEBER', 'SEMIO_SOZ', 'D19_LOTTO', 'KBA05_ZUL2', 'KBA05_SEG3', 'D19_REISEN', 'D19_VERSICHERUNGEN', 'KBA05_MOTOR', 'KBA05_SEG9', 'PRAEGENDE_JUGENDJAHRE', 'D19_VERSAND_REST', 'KBA05_SEG4', 'TITEL_KZ', 'WOHNDAUER_2008', 'D19_BANKEN_OFFLINE_DATUM', 'KBA05_VORB2', 'GEBAEUDETYP', 'FINANZ_MINIMALIST', 'KBA05_KW1', 'D19_BANKEN_DATUM', 'ALTERSKATEGORIE_GROB', 'D19_BANKEN_ANZ_12', 'D19_VERSAND_OFFLINE_DATUM', 'RELAT_AB', 'KBA05_ANHANG', 'KBA05_MOD1', 'HH_EINKOMMEN_SCORE', 'D19_GESAMT_ANZ_12', 'D19_KINDERARTIKEL', 'KBA05_MODTEMP', 'KBA05_MOD2', 'D19_SONSTIGE', 'KBA05_CCM2', 'GEBAEUDETYP_RASTER', 'KBA05_SEG10', 'KBA05_ZUL4', 'WOHNLAGE', 'D19_TELKO_OFFLINE_DATUM', 'GEBURTSJAHR', 'D19_FREIZEIT', 'KBA05_MAXSEG', 'D19_VOLLSORTIMENT', 'KBA05_SEG6', 'D19_VERSAND_ONLINE_QUOTE_12', 'KBA05_KRSHERST3', 'ALTER_HH', 'KBA05_HERST2', 'KBA13_ANZAHL_PKW', 'KBA05_CCM4', 'KBA05_ALTER4', 'D19_TECHNIK', 'KBA05_MOD4', 'KBA05_FRAU', 'KBA05_DIESEL', 'D19_HAUS_DEKO', 'SEMIO_KULT', 'SEMIO_MAT', 'KBA05_MOTRAD', 'KBA05_HERST3', 'BALLRAUM', 'D19_VERSAND_ANZ_24', 'PLZ8_BAUMAX', 'ZABEOTYP', 'KBA05_GBZ', 'EWDICHTE', 'LP_STATUS_GROB', 'ANZ_PERSONEN', 'KBA05_KRSVAN', 'SEMIO_RAT', 'D19_BEKLEIDUNG_REST', 'KBA05_ZUL3', 'KBA05_ALTER1', 'SEMIO_TRADV', 'D19_VERSAND_DATUM', 'D19_KONSUMTYP', 'D19_TELKO_DATUM', 'ANZ_HH_TITEL', 'D19_TELKO_ONLINE_DATUM', 'KBA05_HERST5', 'KBA05_SEG2', 'KBA05_ALTER2', 'KBA05_MAXAH', 'KBA05_SEG8', 'D19_DIGIT_SERV', 'FINANZ_ANLEGER', 'SHOPPER_TYP', 'REGIOTYP', 'LP_LEBENSPHASE_FEIN', 'D19_NAHRUNGSERGAENZUNG', 'D19_TIERARTIKEL', 'LP_FAMILIE_GROB', 'FINANZTYP', 'PLZ8_ANTG3', 'FINANZ_VORSORGER', 'D19_LEBENSMITTEL', 'SEMIO_REL', 'KBA05_HERSTTEMP', 'ANREDE_KZ', 'MIN_GEBAEUDEJAHR', 'KBA05_VORB0', 'PLZ8_ANTG2', 'PLZ8_ANTG4', 'GREEN_AVANTGARDE', 'KBA05_KRSAQUOT', 'KBA05_CCM1', 'D19_BANKEN_ANZ_24', 'D19_BANKEN_GROSS', 'D19_VERSAND_ONLINE_DATUM', 'D19_BILDUNG', 'D19_SAMMELARTIKEL', 'SEMIO_KAEM', 'AGER_TYP', 'D19_BANKEN_ONLINE_QUOTE_12', 'D19_ENERGIE', 'D19_GESAMT_DATUM', 'SEMIO_ERL', 'KBA05_ANTG1', 'D19_BIO_OEKO', 'D19_TELKO_REST', 'KBA05_MAXVORB', 'GFK_URLAUBERTYP', 'D19_BEKLEIDUNG_GEH', 'D19_VERSI_ANZ_24', 'D19_VERSAND_ANZ_12', 'ANZ_TITEL', 'SEMIO_LUST', 'W_KEIT_KIND_HH', 'RETOURTYP_BK_S', 'D19_GESAMT_ONLINE_DATUM', 'KBA05_AUTOQUOT', 'D19_DROGERIEARTIKEL', 'LP_LEBENSPHASE_GROB']\n"
     ]
    }
   ],
   "source": [
    "print(all_feature_contains)"
   ]
  },
  {
   "source": [
    "## Check completeness of the data"
   ],
   "cell_type": "markdown",
   "metadata": {}
  },
  {
   "cell_type": "code",
   "execution_count": 130,
   "metadata": {},
   "outputs": [],
   "source": [
    "# create dict ['feature_name' -> unknown_value] to encode unknown value in dataframe as null\n",
    "def get_feature2unk(metadata):\n",
    "\n",
    "    feature2unk = {}\n",
    "\n",
    "    for _, metas in metadata.items():\n",
    "        for meta in metas:\n",
    "            feature2unk[meta['feature']] = meta['unknown_value']\n",
    "\n",
    "    return feature2unk\n",
    "\n",
    "\n",
    "def encode_unk(df, feature, feature2unk):\n",
    "\n",
    "    col = df[feature].copy()\n",
    "\n",
    "    if feature2unk[feature] is not None:\n",
    "        col.loc[col.isin(feature2unk[feature])] = np.nan\n",
    "\n",
    "    return col\n"
   ]
  },
  {
   "cell_type": "code",
   "execution_count": 75,
   "metadata": {},
   "outputs": [],
   "source": [
    "feature2unk = get_feature2unk(metadata)"
   ]
  },
  {
   "cell_type": "code",
   "execution_count": 142,
   "metadata": {},
   "outputs": [],
   "source": [
    "# check completeness of the data\n",
    "def check_completeness(df, all_feature_contains, feature2unk, threshold=0.7):\n",
    "\n",
    "    too_miss_features = []\n",
    "\n",
    "    for feature in all_feature_contains:\n",
    "\n",
    "        col = encode_unk(df, feature, feature2unk)\n",
    "        perc_miss = col.notnull().sum()/len(df)\n",
    "\n",
    "        print(f'{feature}: {perc_miss*100:.2f}%')\n",
    "\n",
    "        if perc_miss >= threshold:\n",
    "            too_miss_features.append(feature)\n",
    "\n",
    "    return too_miss_features"
   ]
  },
  {
   "cell_type": "code",
   "execution_count": 143,
   "metadata": {},
   "outputs": [
    {
     "output_type": "stream",
     "name": "stdout",
     "text": [
      "KBA05_KW3: 83.38%\n",
      "KBA05_ZUL1: 83.38%\n",
      "KBA05_HERST4: 83.38%\n",
      "D19_HANDWERK: 13.78%\n",
      "D19_GESAMT_OFFLINE_DATUM: 37.33%\n",
      "SEMIO_PFLICHT: 100.00%\n",
      "D19_GARTEN: 4.44%\n",
      "D19_BANKEN_ONLINE_DATUM: 18.43%\n",
      "KBA05_SEG7: 83.38%\n",
      "ONLINE_AFFINITAET: 92.08%\n",
      "D19_KOSMETIK: 16.31%\n",
      "KBA05_ANTG2: 85.04%\n",
      "CAMEO_DEUG_2015: 88.89%\n",
      "KBA05_KRSKLEIN: 83.38%\n",
      "KBA05_KRSHERST2: 83.38%\n",
      "PLZ8_GBZ: 86.93%\n",
      "KBA05_ALTER3: 83.38%\n",
      "D19_VERSI_ANZ_12: 7.85%\n",
      "KBA05_KRSHERST1: 83.38%\n",
      "FINANZ_UNAUFFAELLIGER: 100.00%\n",
      "LP_STATUS_FEIN: 99.46%\n",
      "D19_WEIN_FEINKOST: 6.18%\n",
      "D19_TELKO_ANZ_12: 3.73%\n",
      "KBA05_VORB1: 83.38%\n",
      "KBA05_MAXBJ: 83.38%\n",
      "KBA05_MOD8: 83.38%\n",
      "D19_TELKO_MOBILE: 18.45%\n",
      "D19_BANKEN_DIREKT: 18.22%\n",
      "KBA05_SEG5: 83.38%\n",
      "D19_SCHUHE: 13.26%\n",
      "HEALTH_TYP: 87.52%\n",
      "KBA05_KRSZUL: 83.38%\n",
      "D19_GESAMT_ANZ_24: 43.30%\n",
      "KBA05_ANTG3: 85.04%\n",
      "NATIONALITAET_KZ: 87.85%\n",
      "CJT_GESAMTTYP: 99.46%\n",
      "ANZ_HAUSHALTE_AKTIV: 89.55%\n",
      "KBA05_CCM3: 83.38%\n",
      "SEMIO_KRIT: 100.00%\n",
      "KBA05_BAUMAX: 46.53%\n",
      "D19_BANKEN_REST: 7.79%\n",
      "KKK: 82.26%\n",
      "KBA05_ANTG4: 85.04%\n",
      "PLZ8_ANTG1: 86.93%\n",
      "VERS_TYP: 87.52%\n",
      "D19_GESAMT_ONLINE_QUOTE_12: 71.15%\n",
      "INNENSTADT: 89.48%\n",
      "KBA05_SEG1: 83.38%\n",
      "KONSUMNAEHE: 91.70%\n",
      "LP_FAMILIE_FEIN: 99.46%\n",
      "CAMEO_DEU_2015: 88.89%\n",
      "D19_BANKEN_LOKAL: 1.85%\n",
      "PLZ8_HHZ: 86.93%\n",
      "FINANZ_HAUSBAUER: 100.00%\n",
      "KBA05_MOD3: 83.38%\n",
      "KBA05_MAXHERST: 83.38%\n",
      "OST_WEST_KZ: 89.55%\n",
      "D19_TELKO_ANZ_24: 7.29%\n",
      "SEMIO_VERT: 100.00%\n",
      "SEMIO_FAM: 100.00%\n",
      "KBA05_HERST1: 83.38%\n",
      "FINANZ_SPARER: 100.00%\n",
      "MOBI_REGIO: 85.00%\n",
      "SEMIO_DOM: 100.00%\n",
      "KBA05_KRSOBER: 83.38%\n",
      "ORTSGR_KLS9: 89.09%\n",
      "KBA05_KW2: 83.38%\n",
      "D19_RATGEBER: 9.67%\n",
      "SEMIO_SOZ: 100.00%\n",
      "D19_LOTTO: 16.08%\n",
      "KBA05_ZUL2: 83.38%\n",
      "KBA05_SEG3: 83.38%\n",
      "D19_REISEN: 17.31%\n",
      "D19_VERSICHERUNGEN: 26.54%\n",
      "KBA05_MOTOR: 83.38%\n",
      "KBA05_SEG9: 83.38%\n",
      "PRAEGENDE_JUGENDJAHRE: 87.86%\n",
      "D19_VERSAND_REST: 17.59%\n",
      "KBA05_SEG4: 83.38%\n",
      "TITEL_KZ: 0.24%\n",
      "WOHNDAUER_2008: 91.75%\n",
      "D19_BANKEN_OFFLINE_DATUM: 2.21%\n",
      "KBA05_VORB2: 83.38%\n",
      "GEBAEUDETYP: 89.55%\n",
      "FINANZ_MINIMALIST: 100.00%\n",
      "KBA05_KW1: 83.38%\n",
      "D19_BANKEN_DATUM: 23.89%\n",
      "ALTERSKATEGORIE_GROB: 100.00%\n",
      "D19_BANKEN_ANZ_12: 6.67%\n",
      "D19_VERSAND_OFFLINE_DATUM: 28.84%\n",
      "RELAT_AB: 89.07%\n",
      "KBA05_ANHANG: 83.48%\n",
      "KBA05_MOD1: 83.38%\n",
      "HH_EINKOMMEN_SCORE: 97.94%\n",
      "D19_GESAMT_ANZ_12: 34.38%\n",
      "D19_KINDERARTIKEL: 15.92%\n",
      "KBA05_MODTEMP: 89.55%\n",
      "KBA05_MOD2: 83.38%\n",
      "D19_SONSTIGE: 43.23%\n",
      "KBA05_CCM2: 83.38%\n",
      "GEBAEUDETYP_RASTER: 89.55%\n",
      "KBA05_SEG10: 83.38%\n",
      "KBA05_ZUL4: 83.38%\n",
      "WOHNLAGE: 89.55%\n",
      "D19_TELKO_OFFLINE_DATUM: 8.09%\n",
      "GEBURTSJAHR: 100.00%\n",
      "D19_FREIZEIT: 11.27%\n",
      "KBA05_MAXSEG: 83.38%\n",
      "D19_VOLLSORTIMENT: 32.68%\n",
      "KBA05_SEG6: 83.38%\n",
      "D19_VERSAND_ONLINE_QUOTE_12: 71.15%\n",
      "KBA05_KRSHERST3: 83.38%\n",
      "ALTER_HH: 65.19%\n",
      "KBA05_HERST2: 83.38%\n",
      "KBA13_ANZAHL_PKW: 88.13%\n",
      "KBA05_CCM4: 83.38%\n",
      "KBA05_ALTER4: 83.38%\n",
      "D19_TECHNIK: 29.30%\n",
      "KBA05_MOD4: 83.38%\n",
      "KBA05_FRAU: 83.38%\n",
      "KBA05_DIESEL: 83.38%\n",
      "D19_HAUS_DEKO: 19.99%\n",
      "SEMIO_KULT: 100.00%\n",
      "SEMIO_MAT: 100.00%\n",
      "KBA05_MOTRAD: 83.56%\n",
      "KBA05_HERST3: 83.38%\n",
      "BALLRAUM: 89.48%\n",
      "D19_VERSAND_ANZ_24: 36.74%\n",
      "PLZ8_BAUMAX: 86.93%\n",
      "ZABEOTYP: 100.00%\n",
      "KBA05_GBZ: 85.04%\n",
      "EWDICHTE: 89.48%\n",
      "LP_STATUS_GROB: 99.46%\n",
      "ANZ_PERSONEN: 91.75%\n",
      "KBA05_KRSVAN: 83.38%\n",
      "SEMIO_RAT: 100.00%\n",
      "D19_BEKLEIDUNG_REST: 22.30%\n",
      "KBA05_ZUL3: 83.38%\n",
      "KBA05_ALTER1: 83.38%\n",
      "SEMIO_TRADV: 100.00%\n",
      "D19_VERSAND_DATUM: 50.87%\n",
      "D19_KONSUMTYP: 71.15%\n",
      "D19_TELKO_DATUM: 25.29%\n",
      "ANZ_HH_TITEL: 89.12%\n",
      "D19_TELKO_ONLINE_DATUM: 0.92%\n",
      "KBA05_HERST5: 83.38%\n",
      "KBA05_SEG2: 83.38%\n",
      "KBA05_ALTER2: 83.38%\n",
      "KBA05_MAXAH: 83.38%\n",
      "KBA05_SEG8: 83.38%\n",
      "D19_DIGIT_SERV: 3.77%\n",
      "FINANZ_ANLEGER: 100.00%\n",
      "SHOPPER_TYP: 87.52%\n",
      "REGIOTYP: 82.26%\n",
      "LP_LEBENSPHASE_FEIN: 99.46%\n",
      "D19_NAHRUNGSERGAENZUNG: 4.38%\n",
      "D19_TIERARTIKEL: 4.38%\n",
      "LP_FAMILIE_GROB: 99.46%\n",
      "FINANZTYP: 100.00%\n",
      "PLZ8_ANTG3: 86.93%\n",
      "FINANZ_VORSORGER: 100.00%\n",
      "D19_LEBENSMITTEL: 5.98%\n",
      "SEMIO_REL: 100.00%\n",
      "KBA05_HERSTTEMP: 87.65%\n",
      "ANREDE_KZ: 100.00%\n",
      "MIN_GEBAEUDEJAHR: 89.55%\n",
      "KBA05_VORB0: 83.38%\n",
      "PLZ8_ANTG2: 86.93%\n",
      "PLZ8_ANTG4: 86.93%\n",
      "GREEN_AVANTGARDE: 100.00%\n",
      "KBA05_KRSAQUOT: 83.38%\n",
      "KBA05_CCM1: 83.38%\n",
      "D19_BANKEN_ANZ_24: 10.90%\n",
      "D19_BANKEN_GROSS: 11.88%\n",
      "D19_VERSAND_ONLINE_DATUM: 44.52%\n",
      "D19_BILDUNG: 8.76%\n",
      "D19_SAMMELARTIKEL: 10.00%\n",
      "SEMIO_KAEM: 100.00%\n",
      "AGER_TYP: 23.04%\n",
      "D19_BANKEN_ONLINE_QUOTE_12: 71.15%\n",
      "D19_ENERGIE: 6.89%\n",
      "D19_GESAMT_DATUM: 60.26%\n",
      "SEMIO_ERL: 100.00%\n",
      "KBA05_ANTG1: 85.04%\n",
      "D19_BIO_OEKO: 4.17%\n",
      "D19_TELKO_REST: 14.05%\n",
      "KBA05_MAXVORB: 83.38%\n",
      "GFK_URLAUBERTYP: 99.46%\n",
      "D19_BEKLEIDUNG_GEH: 9.19%\n",
      "D19_VERSI_ANZ_24: 12.81%\n",
      "D19_VERSAND_ANZ_12: 28.42%\n",
      "ANZ_TITEL: 91.75%\n",
      "SEMIO_LUST: 100.00%\n",
      "W_KEIT_KIND_HH: 83.39%\n",
      "RETOURTYP_BK_S: 99.46%\n",
      "D19_GESAMT_ONLINE_DATUM: 49.40%\n",
      "KBA05_AUTOQUOT: 83.38%\n",
      "D19_DROGERIEARTIKEL: 14.61%\n",
      "LP_LEBENSPHASE_GROB: 99.46%\n"
     ]
    }
   ],
   "source": [
    "azdias_miss_features = check_completeness(azdias, all_feature_contains, feature2unk)"
   ]
  },
  {
   "cell_type": "code",
   "execution_count": 147,
   "metadata": {},
   "outputs": [
    {
     "output_type": "stream",
     "name": "stdout",
     "text": [
      "KBA05_KW3: 70.30%\n",
      "KBA05_ZUL1: 70.30%\n",
      "KBA05_HERST4: 70.30%\n",
      "D19_HANDWERK: 25.11%\n",
      "D19_GESAMT_OFFLINE_DATUM: 53.41%\n",
      "SEMIO_PFLICHT: 100.00%\n",
      "D19_GARTEN: 6.10%\n",
      "D19_BANKEN_ONLINE_DATUM: 12.56%\n",
      "KBA05_SEG7: 70.30%\n",
      "ONLINE_AFFINITAET: 96.18%\n",
      "D19_KOSMETIK: 27.28%\n",
      "KBA05_ANTG2: 70.79%\n",
      "CAMEO_DEUG_2015: 73.69%\n",
      "KBA05_KRSKLEIN: 70.30%\n",
      "KBA05_KRSHERST2: 70.30%\n",
      "PLZ8_GBZ: 72.47%\n",
      "KBA05_ALTER3: 70.30%\n",
      "D19_VERSI_ANZ_12: 7.52%\n",
      "KBA05_KRSHERST1: 70.30%\n",
      "FINANZ_UNAUFFAELLIGER: 100.00%\n",
      "LP_STATUS_FEIN: 98.32%\n",
      "D19_WEIN_FEINKOST: 13.16%\n",
      "D19_TELKO_ANZ_12: 3.75%\n",
      "KBA05_VORB1: 70.30%\n",
      "KBA05_MAXBJ: 70.30%\n",
      "KBA05_MOD8: 70.30%\n",
      "D19_TELKO_MOBILE: 16.75%\n",
      "D19_BANKEN_DIREKT: 13.01%\n",
      "KBA05_SEG5: 70.30%\n",
      "D19_SCHUHE: 14.57%\n",
      "HEALTH_TYP: 74.44%\n",
      "KBA05_KRSZUL: 70.30%\n",
      "D19_GESAMT_ANZ_24: 52.14%\n",
      "KBA05_ANTG3: 70.79%\n",
      "NATIONALITAET_KZ: 74.56%\n",
      "CJT_GESAMTTYP: 98.32%\n",
      "ANZ_HAUSHALTE_AKTIV: 73.95%\n",
      "KBA05_CCM3: 70.30%\n",
      "SEMIO_KRIT: 100.00%\n",
      "KBA05_BAUMAX: 42.85%\n",
      "D19_BANKEN_REST: 8.04%\n",
      "KKK: 68.66%\n",
      "KBA05_ANTG4: 70.79%\n",
      "PLZ8_ANTG1: 72.47%\n",
      "VERS_TYP: 74.44%\n",
      "D19_GESAMT_ONLINE_QUOTE_12: 75.11%\n",
      "INNENSTADT: 73.93%\n",
      "KBA05_SEG1: 70.30%\n",
      "KONSUMNAEHE: 75.66%\n",
      "LP_FAMILIE_FEIN: 98.32%\n",
      "CAMEO_DEU_2015: 73.69%\n",
      "D19_BANKEN_LOKAL: 2.25%\n",
      "PLZ8_HHZ: 72.47%\n",
      "FINANZ_HAUSBAUER: 100.00%\n",
      "KBA05_MOD3: 70.30%\n",
      "KBA05_MAXHERST: 70.30%\n",
      "OST_WEST_KZ: 73.95%\n",
      "D19_TELKO_ANZ_24: 6.91%\n",
      "SEMIO_VERT: 100.00%\n",
      "SEMIO_FAM: 100.00%\n",
      "KBA05_HERST1: 70.30%\n",
      "FINANZ_SPARER: 100.00%\n",
      "MOBI_REGIO: 70.74%\n",
      "SEMIO_DOM: 100.00%\n",
      "KBA05_KRSOBER: 70.30%\n",
      "ORTSGR_KLS9: 73.66%\n",
      "KBA05_KW2: 70.30%\n",
      "D19_RATGEBER: 15.85%\n",
      "SEMIO_SOZ: 100.00%\n",
      "D19_LOTTO: 29.05%\n",
      "KBA05_ZUL2: 70.30%\n",
      "KBA05_SEG3: 70.30%\n",
      "D19_REISEN: 29.65%\n",
      "D19_VERSICHERUNGEN: 24.49%\n",
      "KBA05_MOTOR: 70.30%\n",
      "KBA05_SEG9: 70.30%\n",
      "PRAEGENDE_JUGENDJAHRE: 74.70%\n",
      "D19_VERSAND_REST: 15.89%\n",
      "KBA05_SEG4: 70.30%\n",
      "TITEL_KZ: 1.21%\n",
      "WOHNDAUER_2008: 75.69%\n",
      "D19_BANKEN_OFFLINE_DATUM: 3.89%\n",
      "KBA05_VORB2: 70.30%\n",
      "GEBAEUDETYP: 73.95%\n",
      "FINANZ_MINIMALIST: 100.00%\n",
      "KBA05_KW1: 70.30%\n",
      "D19_BANKEN_DATUM: 20.29%\n",
      "ALTERSKATEGORIE_GROB: 100.00%\n",
      "D19_BANKEN_ANZ_12: 6.00%\n",
      "D19_VERSAND_OFFLINE_DATUM: 47.79%\n",
      "RELAT_AB: 73.65%\n",
      "KBA05_ANHANG: 70.34%\n",
      "KBA05_MOD1: 70.30%\n",
      "HH_EINKOMMEN_SCORE: 98.45%\n",
      "D19_GESAMT_ANZ_12: 41.56%\n",
      "D19_KINDERARTIKEL: 19.83%\n",
      "KBA05_MODTEMP: 73.95%\n",
      "KBA05_MOD2: 70.30%\n",
      "D19_SONSTIGE: 60.05%\n",
      "KBA05_CCM2: 70.30%\n",
      "GEBAEUDETYP_RASTER: 73.95%\n",
      "KBA05_SEG10: 70.30%\n",
      "KBA05_ZUL4: 70.30%\n",
      "WOHNLAGE: 73.95%\n",
      "D19_TELKO_OFFLINE_DATUM: 8.34%\n",
      "GEBURTSJAHR: 100.00%\n",
      "D19_FREIZEIT: 13.20%\n",
      "KBA05_MAXSEG: 70.30%\n",
      "D19_VOLLSORTIMENT: 43.51%\n",
      "KBA05_SEG6: 70.30%\n",
      "D19_VERSAND_ONLINE_QUOTE_12: 75.11%\n",
      "KBA05_KRSHERST3: 70.30%\n",
      "ALTER_HH: 64.13%\n",
      "KBA05_HERST2: 70.30%\n",
      "KBA13_ANZAHL_PKW: 73.24%\n",
      "KBA05_CCM4: 70.30%\n",
      "KBA05_ALTER4: 70.30%\n",
      "D19_TECHNIK: 38.73%\n",
      "KBA05_MOD4: 70.30%\n",
      "KBA05_FRAU: 70.30%\n",
      "KBA05_DIESEL: 70.30%\n",
      "D19_HAUS_DEKO: 30.70%\n",
      "SEMIO_KULT: 100.00%\n",
      "SEMIO_MAT: 100.00%\n",
      "KBA05_MOTRAD: 70.33%\n",
      "KBA05_HERST3: 70.30%\n",
      "BALLRAUM: 73.93%\n",
      "D19_VERSAND_ANZ_24: 46.53%\n",
      "PLZ8_BAUMAX: 72.47%\n",
      "ZABEOTYP: 100.00%\n",
      "KBA05_GBZ: 70.79%\n",
      "EWDICHTE: 73.93%\n",
      "LP_STATUS_GROB: 98.32%\n",
      "ANZ_PERSONEN: 75.69%\n",
      "KBA05_KRSVAN: 70.30%\n",
      "SEMIO_RAT: 100.00%\n",
      "D19_BEKLEIDUNG_REST: 28.07%\n",
      "KBA05_ZUL3: 70.30%\n",
      "KBA05_ALTER1: 70.30%\n",
      "SEMIO_TRADV: 100.00%\n",
      "D19_VERSAND_DATUM: 61.84%\n",
      "D19_KONSUMTYP: 75.11%\n",
      "D19_TELKO_DATUM: 22.30%\n",
      "ANZ_HH_TITEL: 72.81%\n",
      "D19_TELKO_ONLINE_DATUM: 1.11%\n",
      "KBA05_HERST5: 70.30%\n",
      "KBA05_SEG2: 70.30%\n",
      "KBA05_ALTER2: 70.30%\n",
      "KBA05_MAXAH: 70.30%\n",
      "KBA05_SEG8: 70.30%\n",
      "D19_DIGIT_SERV: 4.23%\n",
      "FINANZ_ANLEGER: 100.00%\n",
      "SHOPPER_TYP: 74.44%\n",
      "REGIOTYP: 68.66%\n",
      "LP_LEBENSPHASE_FEIN: 98.32%\n",
      "D19_NAHRUNGSERGAENZUNG: 9.16%\n",
      "D19_TIERARTIKEL: 4.10%\n",
      "LP_FAMILIE_GROB: 98.32%\n",
      "FINANZTYP: 100.00%\n",
      "PLZ8_ANTG3: 72.47%\n",
      "FINANZ_VORSORGER: 100.00%\n",
      "D19_LEBENSMITTEL: 10.79%\n",
      "SEMIO_REL: 100.00%\n",
      "KBA05_HERSTTEMP: 73.28%\n",
      "ANREDE_KZ: 100.00%\n",
      "MIN_GEBAEUDEJAHR: 73.95%\n",
      "KBA05_VORB0: 70.30%\n",
      "PLZ8_ANTG2: 72.47%\n",
      "PLZ8_ANTG4: 72.47%\n",
      "GREEN_AVANTGARDE: 100.00%\n",
      "KBA05_KRSAQUOT: 70.30%\n",
      "KBA05_CCM1: 70.30%\n",
      "D19_BANKEN_ANZ_24: 9.37%\n",
      "D19_BANKEN_GROSS: 8.66%\n",
      "D19_VERSAND_ONLINE_DATUM: 49.07%\n",
      "D19_BILDUNG: 18.73%\n",
      "D19_SAMMELARTIKEL: 24.28%\n",
      "SEMIO_KAEM: 100.00%\n",
      "AGER_TYP: 49.52%\n",
      "D19_BANKEN_ONLINE_QUOTE_12: 75.11%\n",
      "D19_ENERGIE: 9.78%\n",
      "D19_GESAMT_DATUM: 68.41%\n",
      "SEMIO_ERL: 100.00%\n",
      "KBA05_ANTG1: 70.79%\n",
      "D19_BIO_OEKO: 8.93%\n",
      "D19_TELKO_REST: 12.00%\n",
      "KBA05_MAXVORB: 70.30%\n",
      "GFK_URLAUBERTYP: 98.32%\n",
      "D19_BEKLEIDUNG_GEH: 19.52%\n",
      "D19_VERSI_ANZ_24: 11.91%\n",
      "D19_VERSAND_ANZ_12: 36.18%\n",
      "ANZ_TITEL: 75.69%\n",
      "SEMIO_LUST: 100.00%\n",
      "W_KEIT_KIND_HH: 70.29%\n",
      "RETOURTYP_BK_S: 98.32%\n",
      "D19_GESAMT_ONLINE_DATUM: 53.12%\n",
      "KBA05_AUTOQUOT: 70.30%\n",
      "D19_DROGERIEARTIKEL: 16.08%\n",
      "LP_LEBENSPHASE_GROB: 98.32%\n"
     ]
    }
   ],
   "source": [
    "customer_miss_features = check_completeness(customers, all_feature_contains, feature2unk)"
   ]
  },
  {
   "cell_type": "code",
   "execution_count": 152,
   "metadata": {},
   "outputs": [
    {
     "output_type": "stream",
     "name": "stdout",
     "text": [
      "number of azdias missing: 140\nnumber of customers missing: 138\n"
     ]
    }
   ],
   "source": [
    "print(f'number of azdias missing: {len(azdias_miss_features)}')\n",
    "print(f'number of customers missing: {len(customer_miss_features)}')"
   ]
  },
  {
   "source": [
    "We can see that, after encoding unkown value (describe in given excel file), there are some features that contains too much unknown value such as. \n",
    "\n",
    "* D19_RATGEBER --> missing 82.69%\n",
    "* D19_LOTTO --> missing 83.92%  \n",
    "\n",
    "I will consider removing the features that missing percentage is greater than 30% in data cleaning phase."
   ],
   "cell_type": "markdown",
   "metadata": {}
  },
  {
   "source": [
    "## Observe data distribution  \n",
    "The idea of observing data distribution is to screen the feature that its distribution between azdias and customer data are differentiate. So that it will be useful for unsupervised learning.  \n",
    "\n",
    "The difference of the data distribution will be identified using cosine similarity approach. And the features that have cosine greater than 0.8 will be filtered out."
   ],
   "cell_type": "markdown",
   "metadata": {}
  },
  {
   "cell_type": "code",
   "execution_count": 134,
   "metadata": {},
   "outputs": [],
   "source": [
    "from sklearn.metrics.pairwise import cosine_similarity\n",
    "\n",
    "def check_cosine_similarity(df1, df2, features: t.List[str], feature2unk: t.Dict[str, t.List[float]], threshold=0.9):\n",
    "    '''Calculate the cosine similarity over data distribution of the same feature\n",
    "    of df1 and df2\n",
    "    '''\n",
    "\n",
    "    diff_features = []\n",
    "\n",
    "    for feature in features:\n",
    "\n",
    "        # encode unknown value to nan so that it will not \n",
    "        # dominate the consine similarity\n",
    "        col1 = encode_unk(df1, feature, feature2unk)\n",
    "        col2 = encode_unk(df2, feature, feature2unk)\n",
    "\n",
    "        dist1 = col1.value_counts().to_numpy().reshape(1, -1)\n",
    "        dist2 = col2.value_counts().to_numpy().reshape(1, -1)\n",
    "\n",
    "        # if the shape is the same, meaning that the value in the feature\n",
    "        # is the same, then we can compare this feature\n",
    "        if dist1.shape == dist2.shape:\n",
    "            cosine = cosine_similarity(dist1, dist2)[0][0]\n",
    "            \n",
    "            if cosine <= threshold:\n",
    "                print(f'keeping {feature} with cosine = {cosine}')\n",
    "                diff_features.append(feature)\n",
    "\n",
    " \n",
    "        # if the shape of data distribution is not the same\n",
    "        # it worth keeping this feature because some value are exist \n",
    "        # in only one data frame and it may be used to differentiate between\n",
    "        # the two       \n",
    "        else:\n",
    "            print(f'keeping {feature} since its shape is different')\n",
    "            diff_features.append(feature)\n",
    "\n",
    "    return diff_features"
   ]
  },
  {
   "cell_type": "code",
   "execution_count": 135,
   "metadata": {},
   "outputs": [
    {
     "output_type": "stream",
     "name": "stdout",
     "text": [
      "keeping ANZ_HAUSHALTE_AKTIV since its shape is different\n",
      "keeping LP_FAMILIE_FEIN with cosine = 0.8658833178347435\n",
      "keeping FINANZ_SPARER with cosine = 0.8547594683725593\n",
      "keeping ORTSGR_KLS9 since its shape is different\n",
      "keeping TITEL_KZ since its shape is different\n",
      "keeping GEBAEUDETYP since its shape is different\n",
      "keeping FINANZ_MINIMALIST with cosine = 0.8657524367166026\n",
      "keeping GEBURTSJAHR since its shape is different\n",
      "keeping ALTER_HH since its shape is different\n",
      "keeping KBA13_ANZAHL_PKW since its shape is different\n",
      "keeping ANZ_PERSONEN since its shape is different\n",
      "keeping ANZ_HH_TITEL since its shape is different\n",
      "keeping FINANZ_ANLEGER with cosine = 0.8814257813302829\n",
      "keeping LP_LEBENSPHASE_FEIN with cosine = 0.8936920933483956\n",
      "keeping FINANZ_VORSORGER with cosine = 0.866025978581348\n",
      "keeping D19_BANKEN_ONLINE_QUOTE_12 since its shape is different\n",
      "keeping SEMIO_ERL with cosine = 0.8822900420084974\n",
      "keeping ANZ_TITEL since its shape is different\n",
      "keeping SEMIO_LUST with cosine = 0.8484343145223971\n"
     ]
    }
   ],
   "source": [
    "diff_features = check_cosine_similarity(azdias, customers, all_feature_contains, feature2unk)"
   ]
  },
  {
   "source": [
    "## Visualize data distribution"
   ],
   "cell_type": "markdown",
   "metadata": {}
  },
  {
   "cell_type": "code",
   "execution_count": null,
   "metadata": {},
   "outputs": [],
   "source": []
  },
  {
   "cell_type": "markdown",
   "metadata": {},
   "source": [
    "## Part 1: Customer Segmentation Report\n",
    "\n",
    "The main bulk of your analysis will come in this part of the project. Here, you should use unsupervised learning techniques to describe the relationship between the demographics of the company's existing customers and the general population of Germany. By the end of this part, you should be able to describe parts of the general population that are more likely to be part of the mail-order company's main customer base, and which parts of the general population are less so."
   ]
  },
  {
   "cell_type": "code",
   "execution_count": null,
   "metadata": {},
   "outputs": [],
   "source": []
  },
  {
   "cell_type": "markdown",
   "metadata": {},
   "source": [
    "## Part 2: Supervised Learning Model\n",
    "\n",
    "Now that you've found which parts of the population are more likely to be customers of the mail-order company, it's time to build a prediction model. Each of the rows in the \"MAILOUT\" data files represents an individual that was targeted for a mailout campaign. Ideally, we should be able to use the demographic information from each individual to decide whether or not it will be worth it to include that person in the campaign.\n",
    "\n",
    "The \"MAILOUT\" data has been split into two approximately equal parts, each with almost 43 000 data rows. In this part, you can verify your model with the \"TRAIN\" partition, which includes a column, \"RESPONSE\", that states whether or not a person became a customer of the company following the campaign. In the next part, you'll need to create predictions on the \"TEST\" partition, where the \"RESPONSE\" column has been withheld."
   ]
  },
  {
   "cell_type": "code",
   "execution_count": null,
   "metadata": {},
   "outputs": [],
   "source": [
    "mailout_train = pd.read_csv('../../data/Term2/capstone/arvato_data/Udacity_MAILOUT_052018_TRAIN.csv', sep=';')"
   ]
  },
  {
   "cell_type": "code",
   "execution_count": null,
   "metadata": {},
   "outputs": [],
   "source": []
  },
  {
   "cell_type": "markdown",
   "metadata": {},
   "source": [
    "## Part 3: Kaggle Competition\n",
    "\n",
    "Now that you've created a model to predict which individuals are most likely to respond to a mailout campaign, it's time to test that model in competition through Kaggle. If you click on the link [here](http://www.kaggle.com/t/21e6d45d4c574c7fa2d868f0e8c83140), you'll be taken to the competition page where, if you have a Kaggle account, you can enter. If you're one of the top performers, you may have the chance to be contacted by a hiring manager from Arvato or Bertelsmann for an interview!\n",
    "\n",
    "Your entry to the competition should be a CSV file with two columns. The first column should be a copy of \"LNR\", which acts as an ID number for each individual in the \"TEST\" partition. The second column, \"RESPONSE\", should be some measure of how likely each individual became a customer – this might not be a straightforward probability. As you should have found in Part 2, there is a large output class imbalance, where most individuals did not respond to the mailout. Thus, predicting individual classes and using accuracy does not seem to be an appropriate performance evaluation method. Instead, the competition will be using AUC to evaluate performance. The exact values of the \"RESPONSE\" column do not matter as much: only that the higher values try to capture as many of the actual customers as possible, early in the ROC curve sweep."
   ]
  },
  {
   "cell_type": "code",
   "execution_count": null,
   "metadata": {},
   "outputs": [],
   "source": [
    "mailout_test = pd.read_csv('../../data/Term2/capstone/arvato_data/Udacity_MAILOUT_052018_TEST.csv', sep=';')"
   ]
  },
  {
   "cell_type": "code",
   "execution_count": null,
   "metadata": {},
   "outputs": [],
   "source": []
  }
 ],
 "metadata": {
  "kernelspec": {
   "display_name": "Python 3",
   "language": "python",
   "name": "python3"
  },
  "language_info": {
   "codemirror_mode": {
    "name": "ipython",
    "version": 3
   },
   "file_extension": ".py",
   "mimetype": "text/x-python",
   "name": "python",
   "nbconvert_exporter": "python",
   "pygments_lexer": "ipython3",
   "version": "3.7.9-final"
  }
 },
 "nbformat": 4,
 "nbformat_minor": 2
}